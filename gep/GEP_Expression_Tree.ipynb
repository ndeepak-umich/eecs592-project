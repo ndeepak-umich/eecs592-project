{
  "nbformat": 4,
  "nbformat_minor": 0,
  "metadata": {
    "colab": {
      "provenance": []
    },
    "kernelspec": {
      "name": "python3",
      "display_name": "Python 3"
    },
    "language_info": {
      "name": "python"
    }
  },
  "cells": [
    {
      "cell_type": "code",
      "execution_count": 1,
      "metadata": {
        "id": "0keivS6nFXJm"
      },
      "outputs": [],
      "source": [
        "l=[\"max\",\"+\",\"+\",\"*\",\"x\",\"x\",\"x\",\"y\",\"3\",\"4\",\"y\"]"
      ]
    },
    {
      "cell_type": "code",
      "source": [
        "class Node:\n",
        "  def __init__(self,x,climit,p=None,lc=None,rc=None):\n",
        "\n",
        "    self.data=x\n",
        "    self.parent=p\n",
        "    self.lchild=lc\n",
        "    self.rchild=rc\n",
        "    self.max_child=climit\n",
        "    self.nchild=0\n",
        "\n",
        "\n",
        "\n"
      ],
      "metadata": {
        "id": "j2VJSQpyF8FK"
      },
      "execution_count": 24,
      "outputs": []
    },
    {
      "cell_type": "code",
      "source": [
        "parent_queue=[]\n",
        "root=Node(l[0],2)\n",
        "parent_queue.append(root)\n",
        "pq_ind=0\n",
        "\n",
        "\n",
        "\n",
        "\n"
      ],
      "metadata": {
        "id": "5zkuAHGOJcIg"
      },
      "execution_count": 25,
      "outputs": []
    },
    {
      "cell_type": "code",
      "source": [
        "\n",
        "\n",
        "for i in range(1,len(l)):\n",
        "\n",
        "    #print(i)\n",
        "\n",
        "\n",
        "    while parent_queue[pq_ind].nchild >= parent_queue[pq_ind].max_child:\n",
        "\n",
        "      pq_ind+=1\n",
        "\n",
        "\n",
        "\n",
        "\n",
        "    t=Node(l[i],2,parent_queue[pq_ind])\n",
        "\n",
        "    if parent_queue[pq_ind].nchild==0:\n",
        "\n",
        "        parent_queue[pq_ind].lchild=t\n",
        "\n",
        "    elif parent_queue[pq_ind].nchild==1:\n",
        "\n",
        "        parent_queue[pq_ind].rchild=t\n",
        "\n",
        "    else:\n",
        "\n",
        "        print(\"Error\")\n",
        "\n",
        "    parent_queue[pq_ind].nchild+=1\n",
        "\n",
        "    parent_queue.append(t)\n",
        "\n",
        "\n",
        "\n",
        "\n",
        "\n",
        "\n",
        "\n",
        "\n",
        "\n",
        "\n",
        "\n"
      ],
      "metadata": {
        "colab": {
          "base_uri": "https://localhost:8080/"
        },
        "id": "_O-2Zt3jF4Q_",
        "outputId": "7779e5dc-6d4f-4a52-83fd-51f82b9855b7"
      },
      "execution_count": 27,
      "outputs": [
        {
          "output_type": "stream",
          "name": "stdout",
          "text": [
            "1\n",
            "2\n",
            "3\n",
            "4\n",
            "5\n",
            "6\n",
            "7\n",
            "8\n",
            "9\n",
            "10\n"
          ]
        }
      ]
    },
    {
      "cell_type": "code",
      "source": [],
      "metadata": {
        "colab": {
          "base_uri": "https://localhost:8080/"
        },
        "id": "m5nHcs7RMZXc",
        "outputId": "0751bf37-d964-434f-f07e-21e16b6d8b1c"
      },
      "execution_count": 17,
      "outputs": [
        {
          "output_type": "stream",
          "name": "stdout",
          "text": [
            "3\n"
          ]
        }
      ]
    }
  ]
}