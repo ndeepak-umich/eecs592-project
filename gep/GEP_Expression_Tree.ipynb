{
  "nbformat": 4,
  "nbformat_minor": 0,
  "metadata": {
    "colab": {
      "provenance": []
    },
    "kernelspec": {
      "name": "python3",
      "display_name": "Python 3"
    },
    "language_info": {
      "name": "python"
    }
  },
  "cells": [
    {
      "cell_type": "code",
      "execution_count": 1,
      "metadata": {
        "id": "fUbzFf0PtL0B"
      },
      "outputs": [],
      "source": [
        "l = [\"U\", \"U\", \"I\", \"I\", \"U\", \"C\", \"C\", \"F\", \"F\", \"C\", \"C\"]"
      ]
    },
    {
      "cell_type": "code",
      "source": [
        "class Node:\n",
        "  def __init__(self,x,index,climit,p=None,lc=None,rc=None):\n",
        "\n",
        "    self.data=x\n",
        "    self.index=index\n",
        "    self.parent=p\n",
        "    self.lchild=lc\n",
        "    self.rchild=rc\n",
        "    self.max_child=climit\n",
        "    self.nchild=0"
      ],
      "metadata": {
        "id": "onsIITqStQXf"
      },
      "execution_count": 2,
      "outputs": []
    },
    {
      "cell_type": "code",
      "source": [
        "def queue_tree(l):\n",
        "  queue = []\n",
        "  root = Node(l[0], 0, 2)\n",
        "  queue.append(root)\n",
        "  index = 0\n",
        "  for i in range(1,len(l)):\n",
        "    while (queue[index].nchild >= queue[index].max_child):\n",
        "      index += 1\n",
        "    child = Node(l[i], i, 2, queue[index])\n",
        "    if queue[index].nchild == 0:\n",
        "      queue[index].lchild = child\n",
        "    elif queue[index].nchild == 1:\n",
        "      queue[index].rchild = child\n",
        "    else:\n",
        "      print(\"Error\")\n",
        "\n",
        "    queue[index].nchild += 1\n",
        "    queue.append(child)\n",
        "  return queue"
      ],
      "metadata": {
        "id": "Hfcip1SetSgt"
      },
      "execution_count": 17,
      "outputs": []
    },
    {
      "cell_type": "code",
      "source": [
        "queue = queue_tree(l)\n",
        "for i in range(len(l)):\n",
        "  print(f\"{i}: {queue[i].data}\")"
      ],
      "metadata": {
        "colab": {
          "base_uri": "https://localhost:8080/"
        },
        "id": "o-LHIfattY6H",
        "outputId": "6c8bfcca-6694-4f1f-f764-542b3874766d"
      },
      "execution_count": 18,
      "outputs": [
        {
          "output_type": "stream",
          "name": "stdout",
          "text": [
            "0: U\n",
            "1: U\n",
            "2: I\n",
            "3: I\n",
            "4: U\n",
            "5: C\n",
            "6: C\n",
            "7: F\n",
            "8: F\n",
            "9: C\n",
            "10: C\n"
          ]
        }
      ]
    },
    {
      "cell_type": "code",
      "source": [
        "def decode(queue, index):\n",
        "  root = queue[index]\n",
        "  if root.nchild == 0:\n",
        "    return root.data\n",
        "  lchild = root.lchild\n",
        "  rchild = root.rchild\n",
        "  cnn_decoded = []\n",
        "  match root.data:\n",
        "    case \"U\":\n",
        "      #print(\"U\")\n",
        "      lchild_set = decode(queue, lchild.index)\n",
        "      rchild_set = decode(queue, rchild.index)\n",
        "      #print(f\"{lchild.index}: {lchild_set}\")\n",
        "      #print(f\"{rchild.index}: {rchild_set}\")\n",
        "      cnn_decoded.extend(lchild_set)\n",
        "      cnn_decoded.extend(rchild_set)\n",
        "    case \"I\":\n",
        "      #print(\"I\")\n",
        "      lchild_set = decode(queue, lchild.index)\n",
        "      rchild_set = decode(queue, rchild.index)\n",
        "      #print(f\"{lchild.index}: {lchild_set}\")\n",
        "      #print(f\"{rchild.index}: {rchild_set}\")\n",
        "      cnn_decoded = intersection(lchild_set, rchild_set)\n",
        "  return cnn_decoded"
      ],
      "metadata": {
        "id": "TZn-0Zbw_oCo"
      },
      "execution_count": 22,
      "outputs": []
    },
    {
      "cell_type": "code",
      "source": [
        "def intersection(list1, list2):\n",
        "  list3 = [value for value in list1 if value in list2]\n",
        "  return list3"
      ],
      "metadata": {
        "id": "x_LtmrEpB1ap"
      },
      "execution_count": 23,
      "outputs": []
    },
    {
      "cell_type": "code",
      "source": [
        "decode(queue, 0)"
      ],
      "metadata": {
        "colab": {
          "base_uri": "https://localhost:8080/"
        },
        "id": "XAiDurMpDcxd",
        "outputId": "832df5d8-cd79-4be4-cb4b-4750d052939e"
      },
      "execution_count": 24,
      "outputs": [
        {
          "output_type": "execute_result",
          "data": {
            "text/plain": [
              "['F', 'C', 'C', 'C']"
            ]
          },
          "metadata": {},
          "execution_count": 24
        }
      ]
    },
    {
      "cell_type": "code",
      "source": [],
      "metadata": {
        "id": "i3DTg_R6FJ4z"
      },
      "execution_count": null,
      "outputs": []
    }
  ]
}
