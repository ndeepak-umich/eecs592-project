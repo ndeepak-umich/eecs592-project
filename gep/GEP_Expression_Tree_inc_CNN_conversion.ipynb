{
  "nbformat": 4,
  "nbformat_minor": 0,
  "metadata": {
    "colab": {
      "provenance": []
    },
    "kernelspec": {
      "name": "python3",
      "display_name": "Python 3"
    },
    "language_info": {
      "name": "python"
    }
  },
  "cells": [
    {
      "cell_type": "code",
      "execution_count": 1,
      "metadata": {
        "id": "4MrcXEhTl0cJ"
      },
      "outputs": [],
      "source": [
        "import numpy as np\n",
        "gene = [\"U\", \"U\", \"I\", \"I\", \"U\", \"C\", \"C\", \"F\", \"F\", \"C\", \"C\"]"
      ]
    },
    {
      "cell_type": "code",
      "source": [
        "class Node:\n",
        "  def __init__(self,x,index,climit,p=None,lc=None,rc=None):\n",
        "\n",
        "    self.data=x\n",
        "    self.index=index\n",
        "    self.parent=p\n",
        "    self.lchild=lc\n",
        "    self.rchild=rc\n",
        "    self.max_child=climit\n",
        "    self.nchild=0"
      ],
      "metadata": {
        "id": "FDb4Rx59l8nc"
      },
      "execution_count": 2,
      "outputs": []
    },
    {
      "cell_type": "code",
      "source": [
        "def queue_tree(gene):\n",
        "  split_index = int((len(gene)-1)/2)\n",
        "  head = gene[:split_index]\n",
        "  tail = gene[split_index:]\n",
        "  queue = []\n",
        "  root = Node(gene[0], 0, 2)\n",
        "  queue.append(root)\n",
        "  index = 0\n",
        "  for i in range(1,len(head)):\n",
        "    while (queue[index].nchild >= queue[index].max_child):\n",
        "      index += 1\n",
        "    child = Node(head[i], i, 2, queue[index])\n",
        "    if queue[index].nchild == 0:\n",
        "      queue[index].lchild = child\n",
        "    elif queue[index].nchild == 1:\n",
        "      queue[index].rchild = child\n",
        "    else:\n",
        "      print(\"Error\")\n",
        "\n",
        "    queue[index].nchild += 1\n",
        "    queue.append(child)\n",
        "\n",
        "  number_of_leaves = int((len(head)+1)/2)\n",
        "  depth = np.log2(len(head))\n",
        "  first_leaf = int(2**depth - 1)\n",
        "  post_order_traversal = []\n",
        "  for i in range(first_leaf, len(head)):\n",
        "    post_order_traversal.append(i)\n",
        "  for i in range(number_of_leaves - 1, first_leaf):\n",
        "    post_order_traversal.append(i)\n",
        "\n",
        "  leaf_index = 0\n",
        "  for i in range(len(tail)):\n",
        "    while (queue[post_order_traversal[leaf_index]].nchild >= queue[post_order_traversal[leaf_index]].max_child):\n",
        "      leaf_index += 1\n",
        "    child = Node(tail[i], i+len(head), 2, queue[post_order_traversal[leaf_index]])\n",
        "    if queue[post_order_traversal[leaf_index]].nchild == 0:\n",
        "      queue[post_order_traversal[leaf_index]].lchild = child\n",
        "    elif queue[post_order_traversal[leaf_index]].nchild == 1:\n",
        "      queue[post_order_traversal[leaf_index]].rchild = child\n",
        "    else:\n",
        "      print(\"Error\")\n",
        "    queue[post_order_traversal[leaf_index]].nchild += 1\n",
        "    queue.append(child)\n",
        "\n",
        "  return queue"
      ],
      "metadata": {
        "id": "q4WYlWQKu-aF"
      },
      "execution_count": 3,
      "outputs": []
    },
    {
      "cell_type": "code",
      "source": [
        "queue = queue_tree(gene)\n",
        "for i in range(len(gene)):\n",
        "  print(f\"{i}: {queue[i].data}\")"
      ],
      "metadata": {
        "colab": {
          "base_uri": "https://localhost:8080/"
        },
        "id": "LJa4pYRvmqKm",
        "outputId": "d37b8949-4a12-4f0e-e3b5-d26ba4a12e53"
      },
      "execution_count": 4,
      "outputs": [
        {
          "output_type": "stream",
          "name": "stdout",
          "text": [
            "0: U\n",
            "1: U\n",
            "2: I\n",
            "3: I\n",
            "4: U\n",
            "5: C\n",
            "6: C\n",
            "7: F\n",
            "8: F\n",
            "9: C\n",
            "10: C\n"
          ]
        }
      ]
    },
    {
      "cell_type": "code",
      "source": [
        "def intersection(list1, list2):\n",
        "  list3 = [value for value in list1 if value in list2]\n",
        "  return list3\n",
        "\n",
        "def decode(queue, index):\n",
        "  root = queue[index]\n",
        "  if root.nchild == 0:\n",
        "    return root.data\n",
        "  lchild = root.lchild\n",
        "  rchild = root.rchild\n",
        "  cnn_decoded = []\n",
        "  match root.data:\n",
        "    case \"U\":\n",
        "      #print(\"U\")\n",
        "      lchild_set = decode(queue, lchild.index)\n",
        "      rchild_set = decode(queue, rchild.index)\n",
        "      #print(f\"{lchild.index}: {lchild_set}\")\n",
        "      #print(f\"{rchild.index}: {rchild_set}\")\n",
        "      cnn_decoded.extend(lchild_set)\n",
        "      cnn_decoded.extend(rchild_set)\n",
        "    case \"I\":\n",
        "      #print(\"I\")\n",
        "      lchild_set = decode(queue, lchild.index)\n",
        "      rchild_set = decode(queue, rchild.index)\n",
        "      #print(f\"{lchild.index}: {lchild_set}\")\n",
        "      #print(f\"{rchild.index}: {rchild_set}\")\n",
        "      cnn_decoded = intersection(lchild_set, rchild_set)\n",
        "  return cnn_decoded"
      ],
      "metadata": {
        "id": "Cduy-nakorxt"
      },
      "execution_count": 5,
      "outputs": []
    },
    {
      "cell_type": "code",
      "source": [
        "sorted(decode(queue, 0))"
      ],
      "metadata": {
        "colab": {
          "base_uri": "https://localhost:8080/"
        },
        "id": "HK38ADiXun7E",
        "outputId": "1fc3d2df-1311-43af-efa8-6494421b6103"
      },
      "execution_count": null,
      "outputs": [
        {
          "output_type": "execute_result",
          "data": {
            "text/plain": [
              "['C', 'C', 'F', 'F']"
            ]
          },
          "metadata": {},
          "execution_count": 17
        }
      ]
    },
    {
      "cell_type": "code",
      "source": [
        "import keras\n",
        "from keras.layers import Conv2D\n",
        "\n",
        "from keras.layers import Dense, Dropout, Flatten, Conv2D, MaxPool2D\n",
        "\n",
        "from keras import Sequential\n",
        "\n",
        "\n",
        "t=0\n",
        "\n",
        "def buildconv(fs,ks,ds,c_act,d_act):\n",
        "    #fs- Filter size\n",
        "    #ks-Kernel size\n",
        "    #ds-Dense layer size\n",
        "    #c_act- Convolutional Layer Activation\n",
        "    #d_act- Dense Layer Activation\n",
        "    model = Sequential()\n",
        "    c_f=0\n",
        "    for i in sorted(decode(queue, 0)):\n",
        "\n",
        "\n",
        "        #print(t)\n",
        "        if i=='C':\n",
        "\n",
        "            model.add(Conv2D(filters = fs, kernel_size = ks,padding = 'Same',activation ='relu', input_shape = (28,28,1)))\n",
        "\n",
        "        if i=='F':\n",
        "            if c_f==0:\n",
        "\n",
        "                model.add(Flatten())\n",
        "\n",
        "                c_f+=1\n",
        "            model.add(Dense(ds, activation = \"relu\"))\n",
        "\n",
        "    keras.utils.plot_model(model,to_file='model_architecture.png')\n",
        "\n"
      ],
      "metadata": {
        "id": "YNz1cU9BuxUa"
      },
      "execution_count": 15,
      "outputs": []
    },
    {
      "cell_type": "code",
      "source": [
        "buildconv(32,(5,5),256,'relu','relu')"
      ],
      "metadata": {
        "id": "Vdkn7yP7H8M7"
      },
      "execution_count": 17,
      "outputs": []
    }
  ]
}